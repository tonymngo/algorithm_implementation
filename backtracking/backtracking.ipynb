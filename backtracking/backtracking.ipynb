{
 "cells": [
  {
   "cell_type": "code",
   "execution_count": 1,
   "metadata": {
    "collapsed": true
   },
   "outputs": [],
   "source": [
    "# Implementation of back tracking algorithm\n",
    "# Use crossword_puzzle.py for complete function and output generation"
   ]
  },
  {
   "cell_type": "code",
   "execution_count": 2,
   "metadata": {
    "collapsed": true
   },
   "outputs": [],
   "source": [
    "import numpy as np\n",
    "import collections\n",
    "from itertools import groupby"
   ]
  },
  {
   "cell_type": "code",
   "execution_count": 3,
   "metadata": {},
   "outputs": [],
   "source": [
    "grid = []\n",
    "with open('input.txt','r') as f:\n",
    "    for i in range(10):\n",
    "        grid.append(f.readline().strip())\n",
    "    words = f.readline().strip().split(';')"
   ]
  },
  {
   "cell_type": "code",
   "execution_count": 4,
   "metadata": {},
   "outputs": [
    {
     "data": {
      "text/plain": [
       "['+-++++++++',\n",
       " '+-++++++++',\n",
       " '+-++++++++',\n",
       " '+-----++++',\n",
       " '+-+++-++++',\n",
       " '+-+++-++++',\n",
       " '+++++-++++',\n",
       " '++------++',\n",
       " '+++++-++++',\n",
       " '+++++-++++']"
      ]
     },
     "execution_count": 4,
     "metadata": {},
     "output_type": "execute_result"
    }
   ],
   "source": [
    "grid"
   ]
  },
  {
   "cell_type": "code",
   "execution_count": 5,
   "metadata": {},
   "outputs": [
    {
     "data": {
      "text/plain": [
       "['LONDON', 'DELHI', 'ICELAND', 'ANKARA']"
      ]
     },
     "execution_count": 5,
     "metadata": {},
     "output_type": "execute_result"
    }
   ],
   "source": [
    "words"
   ]
  },
  {
   "cell_type": "code",
   "execution_count": 6,
   "metadata": {},
   "outputs": [
    {
     "data": {
      "text/plain": [
       "[['+', '-', '+', '+', '+', '+', '+', '+', '+', '+'],\n",
       " ['+', '-', '+', '+', '+', '+', '+', '+', '+', '+'],\n",
       " ['+', '-', '+', '+', '+', '+', '+', '+', '+', '+'],\n",
       " ['+', '-', '-', '-', '-', '-', '+', '+', '+', '+'],\n",
       " ['+', '-', '+', '+', '+', '-', '+', '+', '+', '+'],\n",
       " ['+', '-', '+', '+', '+', '-', '+', '+', '+', '+'],\n",
       " ['+', '+', '+', '+', '+', '-', '+', '+', '+', '+'],\n",
       " ['+', '+', '-', '-', '-', '-', '-', '-', '+', '+'],\n",
       " ['+', '+', '+', '+', '+', '-', '+', '+', '+', '+'],\n",
       " ['+', '+', '+', '+', '+', '-', '+', '+', '+', '+']]"
      ]
     },
     "execution_count": 6,
     "metadata": {},
     "output_type": "execute_result"
    }
   ],
   "source": [
    "[list(row) for row in grid]"
   ]
  },
  {
   "cell_type": "code",
   "execution_count": 7,
   "metadata": {
    "collapsed": true
   },
   "outputs": [],
   "source": [
    "def extract_slots(grid, num_rows=10, num_cols=10):\n",
    "    \"\"\"\n",
    "    Extract slots from grid so that words can be put in those slots\n",
    "    return: list of lists of (i,j) such that positions in same slot\n",
    "    are in the same list\n",
    "    \"\"\"\n",
    "    grid = [list(row) for row in grid]\n",
    "    res = []\n",
    "    # Go through rows\n",
    "    for r in range(num_rows):\n",
    "        for k,g in groupby(enumerate(grid[r]),key=lambda x: x[1]):\n",
    "            groups = list(g)\n",
    "            if groups[0][1] == '-':\n",
    "                res.append([(r,i) for i,e in groups])\n",
    "    # Go through columns (or rows of transpose)\n",
    "    for r in range(num_cols):\n",
    "        for k,g in groupby(enumerate(np.array(grid).T[r]),key=lambda x: x[1]):\n",
    "            groups = list(g)\n",
    "            if groups[0][1] == '-':\n",
    "                res.append([(i,r) for i,e in groups])\n",
    "    \n",
    "    # Output result as dictionary with keys as length of slot\n",
    "    res_dict = collections.defaultdict(list)\n",
    "    for slot in res:\n",
    "        res_dict[len(slot)].append(slot)\n",
    "    return dict(res_dict)"
   ]
  },
  {
   "cell_type": "code",
   "execution_count": 8,
   "metadata": {},
   "outputs": [
    {
     "data": {
      "text/plain": [
       "{1: [[(0, 1)],\n",
       "  [(1, 1)],\n",
       "  [(2, 1)],\n",
       "  [(4, 1)],\n",
       "  [(4, 5)],\n",
       "  [(5, 1)],\n",
       "  [(5, 5)],\n",
       "  [(6, 5)],\n",
       "  [(8, 5)],\n",
       "  [(9, 5)],\n",
       "  [(3, 2)],\n",
       "  [(7, 2)],\n",
       "  [(3, 3)],\n",
       "  [(7, 3)],\n",
       "  [(3, 4)],\n",
       "  [(7, 4)],\n",
       "  [(7, 6)],\n",
       "  [(7, 7)]],\n",
       " 5: [[(3, 1), (3, 2), (3, 3), (3, 4), (3, 5)]],\n",
       " 6: [[(7, 2), (7, 3), (7, 4), (7, 5), (7, 6), (7, 7)],\n",
       "  [(0, 1), (1, 1), (2, 1), (3, 1), (4, 1), (5, 1)]],\n",
       " 7: [[(3, 5), (4, 5), (5, 5), (6, 5), (7, 5), (8, 5), (9, 5)]]}"
      ]
     },
     "execution_count": 8,
     "metadata": {},
     "output_type": "execute_result"
    }
   ],
   "source": [
    "slots = extract_slots(grid)\n",
    "slots"
   ]
  },
  {
   "cell_type": "code",
   "execution_count": 9,
   "metadata": {
    "collapsed": true
   },
   "outputs": [],
   "source": [
    "def is_valid(word, slot, assignment):\n",
    "    \"\"\"\n",
    "    Check whether assignment is valid\n",
    "    Args:\n",
    "        word: word to be assigned\n",
    "        slot: list of grid coordinate to assign letters to\n",
    "        assignment: current assignment\n",
    "    Return: boolean\n",
    "    \"\"\"\n",
    "    if len(word) != len(slot):\n",
    "        raise ValueError(\"Word and slot do not have same length\")\n",
    "    \n",
    "    for i, letter in enumerate(word):\n",
    "        if (slot[i] in assignment) and assignment[slot[i]] != letter:\n",
    "            return False\n",
    "    return True\n",
    "\n",
    "def assign(word, slot, assignment):\n",
    "    \"\"\"\n",
    "    Assign word letters to slot\n",
    "    \"\"\"\n",
    "    for i, letter in enumerate(word):\n",
    "        assignment[slot[i]] = letter\n",
    "        \n",
    "def unassign(word, slot, assignment):\n",
    "    \"\"\"\n",
    "    Unassign word letter from already assigned slot\n",
    "    \"\"\"\n",
    "    for i, letter in enumerate(word):\n",
    "        del assignment[slot[i]]\n",
    "\n",
    "def bt(words, i, slots, assignment, indent=\"\"):\n",
    "    # If all words are assigned, return True\n",
    "    if i >= len(words):\n",
    "        return True\n",
    "    \n",
    "    # If there are words left to be assigned, start assigning\n",
    "    # to each slot, then check whether that assignment is valid\n",
    "    w = words[i]\n",
    "    for slot in slots[len(w)]:\n",
    "        print(indent, w, slot, '::: valid =', is_valid(w, slot, assignment))\n",
    "        if is_valid(w, slot, assignment):\n",
    "            assign(w, slot, assignment)\n",
    "            if bt(words, i+1, slots, assignment, indent+\" |  \") == True:\n",
    "                return True\n",
    "            unassign(w, slot, assignment)\n",
    "    return False"
   ]
  },
  {
   "cell_type": "code",
   "execution_count": 10,
   "metadata": {},
   "outputs": [
    {
     "name": "stdout",
     "output_type": "stream",
     "text": [
      " LONDON [(7, 2), (7, 3), (7, 4), (7, 5), (7, 6), (7, 7)] ::: valid = True\n",
      " |   DELHI [(3, 1), (3, 2), (3, 3), (3, 4), (3, 5)] ::: valid = True\n",
      " |   |   ICELAND [(3, 5), (4, 5), (5, 5), (6, 5), (7, 5), (8, 5), (9, 5)] ::: valid = False\n",
      " LONDON [(0, 1), (1, 1), (2, 1), (3, 1), (4, 1), (5, 1)] ::: valid = True\n",
      " |   DELHI [(3, 1), (3, 2), (3, 3), (3, 4), (3, 5)] ::: valid = True\n",
      " |   |   ICELAND [(3, 5), (4, 5), (5, 5), (6, 5), (7, 5), (8, 5), (9, 5)] ::: valid = True\n",
      " |   |   |   ANKARA [(7, 2), (7, 3), (7, 4), (7, 5), (7, 6), (7, 7)] ::: valid = True\n"
     ]
    },
    {
     "data": {
      "text/plain": [
       "True"
      ]
     },
     "execution_count": 10,
     "metadata": {},
     "output_type": "execute_result"
    }
   ],
   "source": [
    "assignment = {}\n",
    "bt(words, 0, slots, assignment)"
   ]
  },
  {
   "cell_type": "code",
   "execution_count": 11,
   "metadata": {},
   "outputs": [
    {
     "data": {
      "text/plain": [
       "{(0, 1): 'L',\n",
       " (1, 1): 'O',\n",
       " (2, 1): 'N',\n",
       " (3, 1): 'D',\n",
       " (3, 2): 'E',\n",
       " (3, 3): 'L',\n",
       " (3, 4): 'H',\n",
       " (3, 5): 'I',\n",
       " (4, 1): 'O',\n",
       " (4, 5): 'C',\n",
       " (5, 1): 'N',\n",
       " (5, 5): 'E',\n",
       " (6, 5): 'L',\n",
       " (7, 2): 'A',\n",
       " (7, 3): 'N',\n",
       " (7, 4): 'K',\n",
       " (7, 5): 'A',\n",
       " (7, 6): 'R',\n",
       " (7, 7): 'A',\n",
       " (8, 5): 'N',\n",
       " (9, 5): 'D'}"
      ]
     },
     "execution_count": 11,
     "metadata": {},
     "output_type": "execute_result"
    }
   ],
   "source": [
    "assignment"
   ]
  },
  {
   "cell_type": "code",
   "execution_count": 12,
   "metadata": {},
   "outputs": [],
   "source": [
    "grid_res = [list(r) for r in grid]\n",
    "for pos, letter in assignment.items():\n",
    "    i, j = pos\n",
    "    grid_res[i][j] = letter"
   ]
  },
  {
   "cell_type": "code",
   "execution_count": 13,
   "metadata": {
    "scrolled": false
   },
   "outputs": [
    {
     "name": "stdout",
     "output_type": "stream",
     "text": [
      "+L++++++++\n",
      "+O++++++++\n",
      "+N++++++++\n",
      "+DELHI++++\n",
      "+O+++C++++\n",
      "+N+++E++++\n",
      "+++++L++++\n",
      "++ANKARA++\n",
      "+++++N++++\n",
      "+++++D++++\n"
     ]
    }
   ],
   "source": [
    "print('\\n'.join([''.join(r) for r in grid_res]))"
   ]
  },
  {
   "cell_type": "code",
   "execution_count": null,
   "metadata": {
    "collapsed": true
   },
   "outputs": [],
   "source": []
  }
 ],
 "metadata": {
  "kernelspec": {
   "display_name": "Python 3",
   "language": "python",
   "name": "python3"
  },
  "language_info": {
   "codemirror_mode": {
    "name": "ipython",
    "version": 3
   },
   "file_extension": ".py",
   "mimetype": "text/x-python",
   "name": "python",
   "nbconvert_exporter": "python",
   "pygments_lexer": "ipython3",
   "version": "3.6.3"
  }
 },
 "nbformat": 4,
 "nbformat_minor": 2
}
